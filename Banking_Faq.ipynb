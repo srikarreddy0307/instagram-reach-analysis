{
 "cells": [
  {
   "cell_type": "markdown",
   "id": "3b1c8523",
   "metadata": {},
   "source": [
    "### Import necessary libararys"
   ]
  },
  {
   "cell_type": "code",
   "execution_count": 1,
   "id": "3309be0f",
   "metadata": {},
   "outputs": [],
   "source": [
    "import pandas as pd\n",
    "import numpy as np\n",
    "import seaborn as sns\n",
    "import matplotlib.pyplot as plt"
   ]
  },
  {
   "cell_type": "markdown",
   "id": "05e7eb0c",
   "metadata": {},
   "source": [
    "### Data Loading"
   ]
  },
  {
   "cell_type": "code",
   "execution_count": 2,
   "id": "14b21c7d",
   "metadata": {},
   "outputs": [],
   "source": [
    "df=pd.read_csv(\"BankFAQs.csv\")"
   ]
  },
  {
   "cell_type": "markdown",
   "id": "8d3fb6c4",
   "metadata": {},
   "source": [
    "### Printing First Five Rows of Data"
   ]
  },
  {
   "cell_type": "code",
   "execution_count": 3,
   "id": "e7116a28",
   "metadata": {},
   "outputs": [
    {
     "data": {
      "text/html": [
       "<div>\n",
       "<style scoped>\n",
       "    .dataframe tbody tr th:only-of-type {\n",
       "        vertical-align: middle;\n",
       "    }\n",
       "\n",
       "    .dataframe tbody tr th {\n",
       "        vertical-align: top;\n",
       "    }\n",
       "\n",
       "    .dataframe thead th {\n",
       "        text-align: right;\n",
       "    }\n",
       "</style>\n",
       "<table border=\"1\" class=\"dataframe\">\n",
       "  <thead>\n",
       "    <tr style=\"text-align: right;\">\n",
       "      <th></th>\n",
       "      <th>Question</th>\n",
       "      <th>Answer</th>\n",
       "      <th>Class</th>\n",
       "    </tr>\n",
       "  </thead>\n",
       "  <tbody>\n",
       "    <tr>\n",
       "      <th>0</th>\n",
       "      <td>Do I need to enter ‘#’ after keying in my Card...</td>\n",
       "      <td>Please listen to the recorded message and foll...</td>\n",
       "      <td>security</td>\n",
       "    </tr>\n",
       "    <tr>\n",
       "      <th>1</th>\n",
       "      <td>What details are required when I want to perfo...</td>\n",
       "      <td>To perform a secure IVR transaction, you will ...</td>\n",
       "      <td>security</td>\n",
       "    </tr>\n",
       "    <tr>\n",
       "      <th>2</th>\n",
       "      <td>How should I get the IVR Password  if I hold a...</td>\n",
       "      <td>An IVR password can be requested only from the...</td>\n",
       "      <td>security</td>\n",
       "    </tr>\n",
       "    <tr>\n",
       "      <th>3</th>\n",
       "      <td>How do I register my Mobile number for IVR Pas...</td>\n",
       "      <td>Please call our Customer Service Centre and en...</td>\n",
       "      <td>security</td>\n",
       "    </tr>\n",
       "    <tr>\n",
       "      <th>4</th>\n",
       "      <td>How can I obtain an IVR Password</td>\n",
       "      <td>By Sending SMS request: Send an SMS 'PWD&lt;space...</td>\n",
       "      <td>security</td>\n",
       "    </tr>\n",
       "  </tbody>\n",
       "</table>\n",
       "</div>"
      ],
      "text/plain": [
       "                                            Question  \\\n",
       "0  Do I need to enter ‘#’ after keying in my Card...   \n",
       "1  What details are required when I want to perfo...   \n",
       "2  How should I get the IVR Password  if I hold a...   \n",
       "3  How do I register my Mobile number for IVR Pas...   \n",
       "4                  How can I obtain an IVR Password    \n",
       "\n",
       "                                              Answer     Class  \n",
       "0  Please listen to the recorded message and foll...  security  \n",
       "1  To perform a secure IVR transaction, you will ...  security  \n",
       "2  An IVR password can be requested only from the...  security  \n",
       "3  Please call our Customer Service Centre and en...  security  \n",
       "4  By Sending SMS request: Send an SMS 'PWD<space...  security  "
      ]
     },
     "execution_count": 3,
     "metadata": {},
     "output_type": "execute_result"
    }
   ],
   "source": [
    "df.head()"
   ]
  },
  {
   "cell_type": "markdown",
   "id": "479c9b95",
   "metadata": {},
   "source": [
    "### Data Information"
   ]
  },
  {
   "cell_type": "code",
   "execution_count": 4,
   "id": "5854653b",
   "metadata": {},
   "outputs": [
    {
     "name": "stdout",
     "output_type": "stream",
     "text": [
      "<class 'pandas.core.frame.DataFrame'>\n",
      "RangeIndex: 1764 entries, 0 to 1763\n",
      "Data columns (total 3 columns):\n",
      " #   Column    Non-Null Count  Dtype \n",
      "---  ------    --------------  ----- \n",
      " 0   Question  1764 non-null   object\n",
      " 1   Answer    1764 non-null   object\n",
      " 2   Class     1764 non-null   object\n",
      "dtypes: object(3)\n",
      "memory usage: 41.5+ KB\n"
     ]
    }
   ],
   "source": [
    "df.info()"
   ]
  },
  {
   "cell_type": "markdown",
   "id": "71c9f273",
   "metadata": {},
   "source": [
    "### Basic Stats About Data"
   ]
  },
  {
   "cell_type": "code",
   "execution_count": 5,
   "id": "60702dc2",
   "metadata": {},
   "outputs": [
    {
     "data": {
      "text/html": [
       "<div>\n",
       "<style scoped>\n",
       "    .dataframe tbody tr th:only-of-type {\n",
       "        vertical-align: middle;\n",
       "    }\n",
       "\n",
       "    .dataframe tbody tr th {\n",
       "        vertical-align: top;\n",
       "    }\n",
       "\n",
       "    .dataframe thead th {\n",
       "        text-align: right;\n",
       "    }\n",
       "</style>\n",
       "<table border=\"1\" class=\"dataframe\">\n",
       "  <thead>\n",
       "    <tr style=\"text-align: right;\">\n",
       "      <th></th>\n",
       "      <th>count</th>\n",
       "      <th>unique</th>\n",
       "      <th>top</th>\n",
       "      <th>freq</th>\n",
       "    </tr>\n",
       "  </thead>\n",
       "  <tbody>\n",
       "    <tr>\n",
       "      <th>Question</th>\n",
       "      <td>1764</td>\n",
       "      <td>1334</td>\n",
       "      <td>How can I change the mode of repayment/ accoun...</td>\n",
       "      <td>18</td>\n",
       "    </tr>\n",
       "    <tr>\n",
       "      <th>Answer</th>\n",
       "      <td>1764</td>\n",
       "      <td>1440</td>\n",
       "      <td>Post Dated Cheques(PDCs)/Security Cheques subm...</td>\n",
       "      <td>17</td>\n",
       "    </tr>\n",
       "    <tr>\n",
       "      <th>Class</th>\n",
       "      <td>1764</td>\n",
       "      <td>7</td>\n",
       "      <td>insurance</td>\n",
       "      <td>469</td>\n",
       "    </tr>\n",
       "  </tbody>\n",
       "</table>\n",
       "</div>"
      ],
      "text/plain": [
       "         count unique                                                top freq\n",
       "Question  1764   1334  How can I change the mode of repayment/ accoun...   18\n",
       "Answer    1764   1440  Post Dated Cheques(PDCs)/Security Cheques subm...   17\n",
       "Class     1764      7                                          insurance  469"
      ]
     },
     "execution_count": 5,
     "metadata": {},
     "output_type": "execute_result"
    }
   ],
   "source": [
    "df.describe().T"
   ]
  },
  {
   "cell_type": "markdown",
   "id": "60953180",
   "metadata": {},
   "source": [
    "### Data count of Each class"
   ]
  },
  {
   "cell_type": "code",
   "execution_count": 6,
   "id": "5efe3ac8",
   "metadata": {},
   "outputs": [
    {
     "data": {
      "text/plain": [
       "insurance        469\n",
       "cards            403\n",
       "loans            375\n",
       "accounts         306\n",
       "investments      140\n",
       "security          57\n",
       "fundstransfer     14\n",
       "Name: Class, dtype: int64"
      ]
     },
     "execution_count": 6,
     "metadata": {},
     "output_type": "execute_result"
    }
   ],
   "source": [
    "df['Class'].value_counts()"
   ]
  },
  {
   "cell_type": "code",
   "execution_count": 7,
   "id": "9866f48a",
   "metadata": {},
   "outputs": [],
   "source": [
    "from sklearn.feature_extraction.text import CountVectorizer\n",
    "vectorizer = CountVectorizer()"
   ]
  },
  {
   "cell_type": "code",
   "execution_count": 8,
   "id": "93546d86",
   "metadata": {},
   "outputs": [],
   "source": [
    "from sklearn.model_selection import train_test_split\n",
    "from sklearn.metrics import accuracy_score, classification_report, confusion_matrix"
   ]
  },
  {
   "cell_type": "markdown",
   "id": "4d0f4995",
   "metadata": {},
   "source": [
    "### Splitting Data into Train and Test"
   ]
  },
  {
   "cell_type": "code",
   "execution_count": 9,
   "id": "a7b9aa1f",
   "metadata": {},
   "outputs": [],
   "source": [
    "train_data, test_data = train_test_split(df, test_size=0.2, random_state=42)"
   ]
  },
  {
   "cell_type": "markdown",
   "id": "02206ac7",
   "metadata": {},
   "source": [
    "### Applying Word embedding Techniques on Features"
   ]
  },
  {
   "cell_type": "code",
   "execution_count": 10,
   "id": "c15d0fb1",
   "metadata": {},
   "outputs": [],
   "source": [
    "# Transform the text data into feature vectors\n",
    "X_train = vectorizer.fit_transform(train_data['Question'])\n",
    "X_test = vectorizer.transform(test_data['Question'])"
   ]
  },
  {
   "cell_type": "markdown",
   "id": "fb86d9f4",
   "metadata": {},
   "source": [
    "### Target"
   ]
  },
  {
   "cell_type": "code",
   "execution_count": 11,
   "id": "3c1a7c7d",
   "metadata": {},
   "outputs": [],
   "source": [
    "# Define the labels\n",
    "y_train = train_data['Class']\n",
    "y_test = test_data['Class']"
   ]
  },
  {
   "cell_type": "markdown",
   "id": "45702e2e",
   "metadata": {},
   "source": [
    "### Applying SVC Model"
   ]
  },
  {
   "cell_type": "code",
   "execution_count": 12,
   "id": "73d5e4c4",
   "metadata": {},
   "outputs": [],
   "source": [
    "from sklearn.svm import SVC"
   ]
  },
  {
   "cell_type": "code",
   "execution_count": 13,
   "id": "1d53750b",
   "metadata": {},
   "outputs": [
    {
     "data": {
      "text/plain": [
       "SVC(C=1, gamma=0.01)"
      ]
     },
     "execution_count": 13,
     "metadata": {},
     "output_type": "execute_result"
    }
   ],
   "source": [
    "# Train the SVM model\n",
    "svm_model = SVC(C=1, kernel='rbf', gamma=0.01, decision_function_shape='ovr')\n",
    "svm_model.fit(X_train, y_train)"
   ]
  },
  {
   "cell_type": "code",
   "execution_count": 14,
   "id": "c1188a86",
   "metadata": {},
   "outputs": [],
   "source": [
    "# Make predictions on the test set\n",
    "svm_predictions = svm_model.predict(X_test)"
   ]
  },
  {
   "cell_type": "code",
   "execution_count": 15,
   "id": "0440949a",
   "metadata": {},
   "outputs": [],
   "source": [
    "svm_accuracy = accuracy_score(y_test, svm_predictions)"
   ]
  },
  {
   "cell_type": "markdown",
   "id": "ee811f75",
   "metadata": {},
   "source": [
    "### Printing Accuracy of Svm"
   ]
  },
  {
   "cell_type": "code",
   "execution_count": 16,
   "id": "636cc0bb",
   "metadata": {},
   "outputs": [
    {
     "name": "stdout",
     "output_type": "stream",
     "text": [
      "SVM accuracy: 0.7620396600566572\n"
     ]
    }
   ],
   "source": [
    "print(\"SVM accuracy:\", svm_accuracy)"
   ]
  },
  {
   "cell_type": "markdown",
   "id": "983e9d73",
   "metadata": {},
   "source": [
    "### Confusion Matrix"
   ]
  },
  {
   "cell_type": "code",
   "execution_count": 17,
   "id": "592353a9",
   "metadata": {},
   "outputs": [
    {
     "name": "stdout",
     "output_type": "stream",
     "text": [
      "SVM confusion matrix:\n"
     ]
    },
    {
     "data": {
      "image/png": "[encoded data removed]",
      "text/plain": [
       "<Figure size 640x480 with 2 Axes>"
      ]
     },
     "metadata": {},
     "output_type": "display_data"
    }
   ],
   "source": [
    "print(\"SVM confusion matrix:\")\n",
    "cm=(confusion_matrix(y_test, svm_predictions))\n",
    "# create a heatmap of the confusion matrix\n",
    "sns.heatmap(cm, annot=True, fmt='g', cmap='Blues')\n",
    "plt.xlabel('Predicted')\n",
    "plt.ylabel('True')\n",
    "plt.show()"
   ]
  },
  {
   "cell_type": "markdown",
   "id": "cbe9ba71",
   "metadata": {},
   "source": [
    "### Classification Report"
   ]
  },
  {
   "cell_type": "code",
   "execution_count": 18,
   "id": "2391823e",
   "metadata": {},
   "outputs": [
    {
     "name": "stdout",
     "output_type": "stream",
     "text": [
      "SVM classification report:\n",
      "               precision    recall  f1-score   support\n",
      "\n",
      "     accounts       0.85      0.88      0.86        57\n",
      "        cards       0.95      0.84      0.89        88\n",
      "fundstransfer       0.00      0.00      0.00         6\n",
      "    insurance       0.55      0.98      0.70        86\n",
      "  investments       1.00      0.07      0.14        27\n",
      "        loans       0.97      0.70      0.81        81\n",
      "     security       1.00      0.25      0.40         8\n",
      "\n",
      "     accuracy                           0.76       353\n",
      "    macro avg       0.76      0.53      0.54       353\n",
      " weighted avg       0.83      0.76      0.74       353\n",
      "\n"
     ]
    },
    {
     "name": "stderr",
     "output_type": "stream",
     "text": [
      "C:\\Users\\User\\Anaconda3\\lib\\site-packages\\sklearn\\metrics\\_classification.py:1318: UndefinedMetricWarning: Precision and F-score are ill-defined and being set to 0.0 in labels with no predicted samples. Use `zero_division` parameter to control this behavior.\n",
      "  _warn_prf(average, modifier, msg_start, len(result))\n",
      "C:\\Users\\User\\Anaconda3\\lib\\site-packages\\sklearn\\metrics\\_classification.py:1318: UndefinedMetricWarning: Precision and F-score are ill-defined and being set to 0.0 in labels with no predicted samples. Use `zero_division` parameter to control this behavior.\n",
      "  _warn_prf(average, modifier, msg_start, len(result))\n",
      "C:\\Users\\User\\Anaconda3\\lib\\site-packages\\sklearn\\metrics\\_classification.py:1318: UndefinedMetricWarning: Precision and F-score are ill-defined and being set to 0.0 in labels with no predicted samples. Use `zero_division` parameter to control this behavior.\n",
      "  _warn_prf(average, modifier, msg_start, len(result))\n"
     ]
    }
   ],
   "source": [
    "print(\"SVM classification report:\")\n",
    "print(classification_report(y_test, svm_predictions))"
   ]
  },
  {
   "cell_type": "markdown",
   "id": "e09efc79",
   "metadata": {},
   "source": [
    "### Applying NavieBayes Algorithm"
   ]
  },
  {
   "cell_type": "code",
   "execution_count": 19,
   "id": "e5c336d8",
   "metadata": {},
   "outputs": [],
   "source": [
    "from sklearn.naive_bayes import MultinomialNB\n",
    "from sklearn.model_selection import GridSearchCV"
   ]
  },
  {
   "cell_type": "code",
   "execution_count": 20,
   "id": "883d373b",
   "metadata": {},
   "outputs": [
    {
     "name": "stdout",
     "output_type": "stream",
     "text": [
      "Accuracy score: 0.9065155807365439\n"
     ]
    }
   ],
   "source": [
    "# Define the hyperparameter grid to search\n",
    "param_grid = {\n",
    "    'alpha': [0.01, 0.1, 0.5, 1.0, 2.0],\n",
    "    'fit_prior': [True, False],\n",
    "}\n",
    "\n",
    "# Create the Multinomial Naive Bayes model\n",
    "mnb = MultinomialNB()\n",
    "# Perform grid search with cross-validation\n",
    "grid_search = GridSearchCV(mnb, param_grid=param_grid, cv=5, scoring='accuracy')\n",
    "grid_search.fit(X_train, y_train)\n",
    "# Get the best model and make predictions on the test set\n",
    "best_model = grid_search.best_estimator_\n",
    "y_pred = best_model.predict(X_test)\n",
    "# Calculate the accuracy score\n",
    "accuracy = accuracy_score(y_test, y_pred)\n",
    "print(\"Accuracy score:\", accuracy)"
   ]
  },
  {
   "cell_type": "code",
   "execution_count": 21,
   "id": "632b2ea0",
   "metadata": {},
   "outputs": [],
   "source": [
    "nb_predictions = best_model.predict(X_test)"
   ]
  },
  {
   "cell_type": "code",
   "execution_count": 22,
   "id": "52493489",
   "metadata": {},
   "outputs": [],
   "source": [
    "nb_accuracy = accuracy_score(y_test, nb_predictions)"
   ]
  },
  {
   "cell_type": "code",
   "execution_count": 23,
   "id": "526bfafd",
   "metadata": {},
   "outputs": [
    {
     "name": "stdout",
     "output_type": "stream",
     "text": [
      "Naive Bayes accuracy: 0.9065155807365439\n"
     ]
    }
   ],
   "source": [
    "print(\"Naive Bayes accuracy:\", nb_accuracy)"
   ]
  },
  {
   "cell_type": "code",
   "execution_count": 24,
   "id": "87a6b8cb",
   "metadata": {},
   "outputs": [
    {
     "name": "stdout",
     "output_type": "stream",
     "text": [
      "Naive Bayes confusion matrix:\n"
     ]
    },
    {
     "data": {
      "image/png": "[encoded data removed]",
      "text/plain": [
       "<Figure size 640x480 with 2 Axes>"
      ]
     },
     "metadata": {},
     "output_type": "display_data"
    }
   ],
   "source": [
    "print(\"Naive Bayes confusion matrix:\")\n",
    "cm=(confusion_matrix(y_test, nb_predictions))\n",
    "sns.heatmap(cm, annot=True, fmt='g', cmap='Blues')\n",
    "plt.xlabel('Predicted')\n",
    "plt.ylabel('True')\n",
    "plt.show()"
   ]
  },
  {
   "cell_type": "code",
   "execution_count": 25,
   "id": "e3942e0c",
   "metadata": {},
   "outputs": [
    {
     "name": "stdout",
     "output_type": "stream",
     "text": [
      "Naive Bayes classification report:\n",
      "               precision    recall  f1-score   support\n",
      "\n",
      "     accounts       0.91      0.88      0.89        57\n",
      "        cards       0.93      0.94      0.94        88\n",
      "fundstransfer       1.00      0.67      0.80         6\n",
      "    insurance       0.92      0.92      0.92        86\n",
      "  investments       0.80      0.89      0.84        27\n",
      "        loans       0.94      0.91      0.92        81\n",
      "     security       0.60      0.75      0.67         8\n",
      "\n",
      "     accuracy                           0.91       353\n",
      "    macro avg       0.87      0.85      0.85       353\n",
      " weighted avg       0.91      0.91      0.91       353\n",
      "\n"
     ]
    }
   ],
   "source": [
    "# Print the classification report and confusion matrix for Naive Bayes model\n",
    "print(\"Naive Bayes classification report:\")\n",
    "print(classification_report(y_test, nb_predictions))"
   ]
  },
  {
   "cell_type": "markdown",
   "id": "782ff031",
   "metadata": {},
   "source": [
    "# predictions"
   ]
  },
  {
   "cell_type": "code",
   "execution_count": 27,
   "id": "9c38eecd",
   "metadata": {},
   "outputs": [
    {
     "name": "stdout",
     "output_type": "stream",
     "text": [
      "Predicted class: cards\n",
      "Predicted answer: Welcome Benefit 500 Times Points will be gifted after you use the card to shop for the first times. Earn Times Points every time you shop. Get 2 Times Points for every Rs. 150 spent. Earn Times Points based on the activities on the Times Internet Limited digital pages. The list of Times Internet Limited digital properties are www.timesofindia.com, www.speakingtree.in, www.economictimes.com , www.itimes.com , www.maharashtratimes.com , www.eisamay.com , www.gaana.com , www.navgujratsamay.com , www.navbharattimes.com Please note, you need to be logged in to your Times Points account for earning Times Points while consuming, sharing & creating content on above listed websites.\n"
     ]
    }
   ],
   "source": [
    "from sklearn.metrics.pairwise import cosine_similarity\n",
    "input_question = \"How can I earn Times Points\"\n",
    "input_vector = vectorizer.transform([input_question])\n",
    "predicted_class = best_model.predict(input_vector)[0]\n",
    "class_data = df[df['Class'] == predicted_class]\n",
    "class_vectors = vectorizer.transform(class_data['Question'])\n",
    "similarities = cosine_similarity(input_vector, class_vectors)\n",
    "most_similar_index = similarities.argmax()\n",
    "predicted_answer = class_data.iloc[most_similar_index]['Answer']\n",
    "\n",
    "# Print the predicted class and answer\n",
    "print(\"Predicted class:\", predicted_class)\n",
    "print(\"Predicted answer:\", predicted_answer)"
   ]
  },
  {
   "cell_type": "code",
   "execution_count": null,
   "id": "40182907",
   "metadata": {},
   "outputs": [],
   "source": []
  }
 ],
 "metadata": {
  "kernelspec": {
   "display_name": "Python 3 (ipykernel)",
   "language": "python",
   "name": "python3"
  },
  "language_info": {
   "codemirror_mode": {
    "name": "ipython",
    "version": 3
   },
   "file_extension": ".py",
   "mimetype": "text/x-python",
   "name": "python",
   "nbconvert_exporter": "python",
   "pygments_lexer": "ipython3",
   "version": "3.9.16"
  }
 },
 "nbformat": 4,
 "nbformat_minor": 5
}
